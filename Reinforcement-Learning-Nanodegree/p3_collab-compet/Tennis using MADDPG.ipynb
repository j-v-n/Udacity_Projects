{
 "cells": [
  {
   "cell_type": "markdown",
   "metadata": {},
   "source": [
    "# Multiagent Tennis - Competitive Solved Using Multi Agent - DDPG\n",
    "### Udacity Project Submission by Jayanth Nair\n",
    "This notebook walks through anthe implementation of the Multi-agent DDPG algorithm to solve the UnityML Tennis Environment (2 agents competing against each other)\n",
    "\n",
    "This solution utilizes 2 separate actor-critic networks for each of the agents"
   ]
  },
  {
   "cell_type": "code",
   "execution_count": 1,
   "metadata": {},
   "outputs": [],
   "source": [
    "# necessary imports to get environment up and running\n",
    "from unityagents import UnityEnvironment\n",
    "import numpy as np"
   ]
  },
  {
   "cell_type": "code",
   "execution_count": 2,
   "metadata": {},
   "outputs": [
    {
     "name": "stderr",
     "output_type": "stream",
     "text": [
      "INFO:unityagents:\n",
      "'Academy' started successfully!\n",
      "Unity Academy name: Academy\n",
      "        Number of Brains: 1\n",
      "        Number of External Brains : 1\n",
      "        Lesson number : 0\n",
      "        Reset Parameters :\n",
      "\t\t\n",
      "Unity brain name: TennisBrain\n",
      "        Number of Visual Observations (per agent): 0\n",
      "        Vector Observation space type: continuous\n",
      "        Vector Observation space size (per agent): 8\n",
      "        Number of stacked Vector Observation: 3\n",
      "        Vector Action space type: continuous\n",
      "        Vector Action space size (per agent): 2\n",
      "        Vector Action descriptions: , \n"
     ]
    }
   ],
   "source": [
    "env = UnityEnvironment(file_name=\"./Tennis_Windows_x86_64/Tennis.exe\")"
   ]
  },
  {
   "cell_type": "code",
   "execution_count": 3,
   "metadata": {},
   "outputs": [],
   "source": [
    "# get the default brain\n",
    "brain_name = env.brain_names[0]\n",
    "brain = env.brains[brain_name]"
   ]
  },
  {
   "cell_type": "code",
   "execution_count": 4,
   "metadata": {},
   "outputs": [
    {
     "name": "stdout",
     "output_type": "stream",
     "text": [
      "Number of agents: 2\n",
      "Size of each action: 2\n",
      "There are 2 agents. Each observes a state with length: 24\n",
      "The state for the first agent looks like: [ 0.          0.          0.          0.          0.          0.\n",
      "  0.          0.          0.          0.          0.          0.\n",
      "  0.          0.          0.          0.         -6.65278625 -1.5\n",
      " -0.          0.          6.83172083  6.         -0.          0.        ]\n"
     ]
    }
   ],
   "source": [
    "# reset the environment\n",
    "env_info = env.reset(train_mode=True)[brain_name]\n",
    "\n",
    "# number of agents \n",
    "num_agents = len(env_info.agents)\n",
    "print('Number of agents:', num_agents)\n",
    "\n",
    "# size of each action\n",
    "action_size = brain.vector_action_space_size\n",
    "print('Size of each action:', action_size)\n",
    "\n",
    "# examine the state space \n",
    "states = env_info.vector_observations\n",
    "state_size = states.shape[1]\n",
    "print('There are {} agents. Each observes a state with length: {}'.format(states.shape[0], state_size))\n",
    "print('The state for the first agent looks like:', states[0])"
   ]
  },
  {
   "cell_type": "markdown",
   "metadata": {},
   "source": [
    "### MADDPG Implementation Details\n",
    "\n",
    "#### Neural Network Architecture\n",
    "The DDPG network used in this notebook consists of two separate actor-critic networks.  The actor contains 3 fully connected layers and 1 output layer(24x128x64x2) with ReLU activation of the input and hidden layers.  The weights are initialized according to the DDPG paper\n",
    "\n",
    "The critic contains 3 fully connected layers and 1 output layer (24x128x64x1) with ReLU activation of input and hidden layers.\n",
    "\n",
    "The implementation used in this notebook is different to the original MADDPG paper. Instead of a critic which can see extra information during training (such as actions of other agents), the critics in this model only use the state observed by their respective agent\n",
    "\n",
    "Each actor-critic network has it's own experience replay buffer which contains observations of their respective agents.\n",
    "\n",
    "#### Hyper-parameters\n",
    "\n",
    "|Hyper-parameter |Value |\n",
    "|:-------------- |:---- |\n",
    "|Replay Buffer Size | 1000000 |\n",
    "|Batch Size | 512 |\n",
    "|Discount Factor | 0.99 |\n",
    "|Learning Rate-Actor | 0.0001 |\n",
    "|Learning Rate-Critic | 0.0001 |\n",
    "|L2 Weight Decay | 0 |\n",
    "|Update Network Every _ Steps | 1|\n",
    "|Learn For _ Times | 1 |"
   ]
  },
  {
   "cell_type": "code",
   "execution_count": 6,
   "metadata": {},
   "outputs": [],
   "source": [
    "# import modules\n",
    "import torch\n",
    "%load_ext autoreload\n",
    "%aimport ddpg_multiagent \n",
    "from ddpg_multiagent_v2 import Agent\n",
    "import matplotlib.pyplot as plt\n",
    "from collections import deque"
   ]
  },
  {
   "cell_type": "code",
   "execution_count": 7,
   "metadata": {},
   "outputs": [],
   "source": [
    "n_agents=states.shape[0] # number of agents "
   ]
  },
  {
   "cell_type": "code",
   "execution_count": 8,
   "metadata": {},
   "outputs": [],
   "source": [
    "# initializing agent\n",
    "agent = Agent(state_size=state_size,action_size=action_size,random_seed=0,n_agents=n_agents)"
   ]
  },
  {
   "cell_type": "code",
   "execution_count": 13,
   "metadata": {},
   "outputs": [],
   "source": [
    "def ddpg_multiagent(n_agents, n_episodes=10000, max_t=1000, print_every=100):\n",
    "    '''\n",
    "    Function which runs the training process \n",
    "\n",
    "    Arguments:\n",
    "     n_agents (int) : Number of agents\n",
    "     n_episodes (int): Max number of episodes to run training\n",
    "     max_t (int): Max time steps in each episode\n",
    "     print_every (int): Printing summarized results every x episodes\n",
    " \n",
    "    Returns :\n",
    "     scores (list): List of averaged scores over all agents for each episode \n",
    "\n",
    "\n",
    "    '''\n",
    "    scores_deque = deque(maxlen=100)\n",
    "    scores = []\n",
    "    best_score = 0.\n",
    "    for i_episode in range(1, n_episodes+1):\n",
    "        env_info = env.reset(train_mode=True)[brain_name]\n",
    "        states = env_info.vector_observations\n",
    "        agent.reset()\n",
    "        agent_scores = np.zeros(n_agents)\n",
    "        for t in range(max_t):\n",
    "            actions = [agent.act(states[agent_id], agent_id) for agent_id in range(n_agents)]\n",
    "            env_info = env.step(actions)[brain_name]\n",
    "            next_states = env_info.vector_observations\n",
    "            rewards = env_info.rewards\n",
    "            dones = env_info.local_done\n",
    "            for agent_id in range(n_agents):\n",
    "                agent_scores[agent_id] += rewards[agent_id]\n",
    "                agent.step(states[agent_id], actions[agent_id], rewards[agent_id], \n",
    "                           next_states[agent_id], dones[agent_id], agent_id)\n",
    "            states = next_states\n",
    "            if np.any(dones):\n",
    "                break\n",
    "        score = np.max(agent_scores)\n",
    "        scores_deque.append(score)\n",
    "        scores.append(score)\n",
    "        print('\\rEpisode # - {0},\\tAverage Score - {1},\\tAverage Score over 100 Episodes-{2}'.format(i_episode, round(score,1), round(np.mean(scores_deque),1)),end=\" \")\n",
    "        if score > best_score:\n",
    "            print('\\rScore of {0} better than previous best score of {1} - Saving weights!'.format(round(score,1),round(best_score,1)))\n",
    "            for n in range(n_agents):\n",
    "                torch.save(agent.actor_local[n].state_dict(), 'checkpoint_actor_{}.pth'.format(n))\n",
    "                torch.save(agent.critic_local[n].state_dict(), 'checkpoint_critic_{}.pth'.format(n))\n",
    "            best_score = score\n",
    "        if i_episode % print_every == 0:\n",
    "            print('\\rEpisode # - {0},\\tAverage Score - {1},\\tAverage Score over 100 Episodes-{2}'.format(i_episode, round(score,1), round(np.mean(scores_deque),1)))\n",
    "        if score > 0.5 and np.mean(scores_deque) > 0.5:\n",
    "            print('\\rReacher environment with {0} agents solved in {1} episodes!'.format(n_agents,i_episode))\n",
    "            break\n",
    "\n",
    "    return scores"
   ]
  },
  {
   "cell_type": "code",
   "execution_count": 14,
   "metadata": {},
   "outputs": [
    {
     "name": "stdout",
     "output_type": "stream",
     "text": [
      "Episode # - 8,\tAverage Score - 0.0,\tAverage Score over 100 Episodes-0.0 "
     ]
    },
    {
     "name": "stderr",
     "output_type": "stream",
     "text": [
      "D:\\udacity_reinforcement_learning\\Udacity Projects\\Reinforcement-Learning-Nanodegree\\p3_collab-compet\\ddpg_multiagent_v2.py:133: UserWarning: torch.nn.utils.clip_grad_norm is now deprecated in favor of torch.nn.utils.clip_grad_norm_.\n",
      "  torch.nn.utils.clip_grad_norm(self.critic_local[agent_id].parameters(), 1) #clipping gradients as per tips from Udacity\n"
     ]
    },
    {
     "name": "stdout",
     "output_type": "stream",
     "text": [
      "Score of 0.1 better than previous best score of 0.0 - Saving weights!.0 \n",
      "Episode # - 100,\tAverage Score - 0.0,\tAverage Score over 100 Episodes-0.0 \n",
      "Episode # - 200,\tAverage Score - 0.0,\tAverage Score over 100 Episodes-0.0 \n",
      "Episode # - 300,\tAverage Score - 0.0,\tAverage Score over 100 Episodes-0.0 \n",
      "Episode # - 400,\tAverage Score - 0.0,\tAverage Score over 100 Episodes-0.0 \n",
      "Episode # - 500,\tAverage Score - 0.0,\tAverage Score over 100 Episodes-0.0 \n",
      "Episode # - 600,\tAverage Score - 0.0,\tAverage Score over 100 Episodes-0.0 \n",
      "Episode # - 700,\tAverage Score - 0.0,\tAverage Score over 100 Episodes-0.0 \n",
      "Episode # - 800,\tAverage Score - 0.0,\tAverage Score over 100 Episodes-0.0 \n",
      "Episode # - 900,\tAverage Score - 0.0,\tAverage Score over 100 Episodes-0.0 \n",
      "Episode # - 1000,\tAverage Score - 0.0,\tAverage Score over 100 Episodes-0.0 \n",
      "Episode # - 1100,\tAverage Score - 0.0,\tAverage Score over 100 Episodes-0.0 \n",
      "Episode # - 1200,\tAverage Score - 0.0,\tAverage Score over 100 Episodes-0.0 \n",
      "Episode # - 1300,\tAverage Score - 0.0,\tAverage Score over 100 Episodes-0.0 \n",
      "Episode # - 1400,\tAverage Score - 0.0,\tAverage Score over 100 Episodes-0.0 \n",
      "Episode # - 1500,\tAverage Score - 0.0,\tAverage Score over 100 Episodes-0.0 \n",
      "Episode # - 1600,\tAverage Score - 0.1,\tAverage Score over 100 Episodes-0.0 \n",
      "Score of 0.2 better than previous best score of 0.1 - Saving weights!s-0.0 \n",
      "Episode # - 1700,\tAverage Score - 0.0,\tAverage Score over 100 Episodes-0.0 \n",
      "Episode # - 1800,\tAverage Score - 0.0,\tAverage Score over 100 Episodes-0.0 \n",
      "Episode # - 1900,\tAverage Score - 0.0,\tAverage Score over 100 Episodes-0.0 \n",
      "Episode # - 2000,\tAverage Score - 0.1,\tAverage Score over 100 Episodes-0.0 \n",
      "Episode # - 2100,\tAverage Score - 0.0,\tAverage Score over 100 Episodes-0.0 \n",
      "Episode # - 2200,\tAverage Score - 0.1,\tAverage Score over 100 Episodes-0.0 \n",
      "Episode # - 2300,\tAverage Score - 0.0,\tAverage Score over 100 Episodes-0.0 \n",
      "Episode # - 2400,\tAverage Score - 0.0,\tAverage Score over 100 Episodes-0.0 \n",
      "Episode # - 2500,\tAverage Score - 0.1,\tAverage Score over 100 Episodes-0.0 \n",
      "Episode # - 2600,\tAverage Score - 0.1,\tAverage Score over 100 Episodes-0.1 \n",
      "Episode # - 2700,\tAverage Score - 0.0,\tAverage Score over 100 Episodes-0.1 \n",
      "Episode # - 2800,\tAverage Score - 0.0,\tAverage Score over 100 Episodes-0.1 \n",
      "Score of 0.3 better than previous best score of 0.2 - Saving weights!s-0.1 \n",
      "Episode # - 2900,\tAverage Score - 0.1,\tAverage Score over 100 Episodes-0.1 \n",
      "Episode # - 3000,\tAverage Score - 0.0,\tAverage Score over 100 Episodes-0.1 \n",
      "Episode # - 3100,\tAverage Score - 0.0,\tAverage Score over 100 Episodes-0.1 \n",
      "Episode # - 3200,\tAverage Score - 0.0,\tAverage Score over 100 Episodes-0.1 \n",
      "Score of 0.6 better than previous best score of 0.3 - Saving weights!s-0.1 \n",
      "Episode # - 3300,\tAverage Score - 0.0,\tAverage Score over 100 Episodes-0.1 \n",
      "Episode # - 3400,\tAverage Score - 0.1,\tAverage Score over 100 Episodes-0.1 \n",
      "Episode # - 3500,\tAverage Score - 0.1,\tAverage Score over 100 Episodes-0.1 \n",
      "Score of 0.7 better than previous best score of 0.6 - Saving weights!s-0.1 \n",
      "Episode # - 3600,\tAverage Score - 0.3,\tAverage Score over 100 Episodes-0.1 \n",
      "Episode # - 3700,\tAverage Score - 0.1,\tAverage Score over 100 Episodes-0.1 \n",
      "Episode # - 3800,\tAverage Score - 0.1,\tAverage Score over 100 Episodes-0.1 \n",
      "Episode # - 3900,\tAverage Score - 0.0,\tAverage Score over 100 Episodes-0.1 \n",
      "Score of 1.1 better than previous best score of 0.7 - Saving weights!s-0.2 \n",
      "Episode # - 4000,\tAverage Score - 0.1,\tAverage Score over 100 Episodes-0.2 \n",
      "Episode # - 4100,\tAverage Score - 0.1,\tAverage Score over 100 Episodes-0.2 \n",
      "Episode # - 4200,\tAverage Score - 0.0,\tAverage Score over 100 Episodes-0.2 \n",
      "Episode # - 4300,\tAverage Score - 0.1,\tAverage Score over 100 Episodes-0.2 \n",
      "Episode # - 4400,\tAverage Score - 0.1,\tAverage Score over 100 Episodes-0.2 \n",
      "Score of 1.2 better than previous best score of 1.1 - Saving weights!s-0.2 \n",
      "Episode # - 4500,\tAverage Score - 0.0,\tAverage Score over 100 Episodes-0.2 \n",
      "Score of 1.5 better than previous best score of 1.2 - Saving weights!s-0.3 \n",
      "Episode # - 4600,\tAverage Score - 0.1,\tAverage Score over 100 Episodes-0.2 \n",
      "Episode # - 4700,\tAverage Score - 0.4,\tAverage Score over 100 Episodes-0.3 \n",
      "Episode # - 4800,\tAverage Score - 0.2,\tAverage Score over 100 Episodes-0.2 \n",
      "Episode # - 4900,\tAverage Score - 0.1,\tAverage Score over 100 Episodes-0.2 \n",
      "Score of 1.7 better than previous best score of 1.5 - Saving weights!s-0.2 \n",
      "Episode # - 5000,\tAverage Score - 1.7,\tAverage Score over 100 Episodes-0.2\n",
      "Episode # - 5100,\tAverage Score - 0.2,\tAverage Score over 100 Episodes-0.2 \n",
      "Episode # - 5200,\tAverage Score - 0.2,\tAverage Score over 100 Episodes-0.3 \n",
      "Episode # - 5300,\tAverage Score - 0.1,\tAverage Score over 100 Episodes-0.3 \n",
      "Score of 2.1 better than previous best score of 1.7 - Saving weights!s-0.3 \n",
      "Episode # - 5400,\tAverage Score - 0.0,\tAverage Score over 100 Episodes-0.3 \n",
      "Episode # - 5500,\tAverage Score - 0.8,\tAverage Score over 100 Episodes-0.3 \n",
      "Score of 2.5 better than previous best score of 2.1 - Saving weights!s-0.3 \n",
      "Episode # - 5600,\tAverage Score - 0.6,\tAverage Score over 100 Episodes-0.4 \n",
      "Episode # - 5700,\tAverage Score - 0.1,\tAverage Score over 100 Episodes-0.4 \n",
      "Reacher environment with 2 agents solved in 5796 episodes!100 Episodes-0.5 \n"
     ]
    },
    {
     "data": {
      "image/png": "[encoded data removed]",
      "text/plain": [
       "<Figure size 432x288 with 1 Axes>"
      ]
     },
     "metadata": {
      "needs_background": "light"
     },
     "output_type": "display_data"
    }
   ],
   "source": [
    "scores = ddpg_multiagent(n_agents)\n",
    "\n",
    "# plot\n",
    "fig = plt.figure()\n",
    "ax = fig.add_subplot(111)\n",
    "plt.plot(np.arange(1, len(scores)+1), scores)\n",
    "plt.ylabel('Score')\n",
    "plt.xlabel('Episode #')\n",
    "plt.show()\n"
   ]
  },
  {
   "cell_type": "code",
   "execution_count": 15,
   "metadata": {},
   "outputs": [],
   "source": [
    "env.close()"
   ]
  },
  {
   "cell_type": "code",
   "execution_count": null,
   "metadata": {},
   "outputs": [],
   "source": []
  }
 ],
 "metadata": {
  "kernelspec": {
   "display_name": "drlnd",
   "language": "python",
   "name": "drlnd"
  },
  "language_info": {
   "codemirror_mode": {
    "name": "ipython",
    "version": 3
   },
   "file_extension": ".py",
   "mimetype": "text/x-python",
   "name": "python",
   "nbconvert_exporter": "python",
   "pygments_lexer": "ipython3",
   "version": "3.6.10"
  }
 },
 "nbformat": 4,
 "nbformat_minor": 4
}
