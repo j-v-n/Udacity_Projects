{
 "cells": [
  {
   "cell_type": "markdown",
   "metadata": {},
   "source": [
    "# Continuous Control Solved Using A2C\n",
    "\n",
    "### Udacity Project Submission by Jayanth Nair\n",
    "\n",
    "This notebook walks through the implementation of the A2C algorithm to solve the UnityML Reacher environment (with 20 agents running parallely)"
   ]
  },
  {
   "cell_type": "code",
   "execution_count": 1,
   "metadata": {},
   "outputs": [],
   "source": [
    "# necessary imports to get environment up and running\n",
    "from unityagents import UnityEnvironment\n",
    "import numpy as np"
   ]
  },
  {
   "cell_type": "code",
   "execution_count": 2,
   "metadata": {},
   "outputs": [
    {
     "name": "stderr",
     "output_type": "stream",
     "text": [
      "INFO:unityagents:\n",
      "'Academy' started successfully!\n",
      "Unity Academy name: Academy\n",
      "        Number of Brains: 1\n",
      "        Number of External Brains : 1\n",
      "        Lesson number : 0\n",
      "        Reset Parameters :\n",
      "\t\tgoal_speed -> 1.0\n",
      "\t\tgoal_size -> 5.0\n",
      "Unity brain name: ReacherBrain\n",
      "        Number of Visual Observations (per agent): 0\n",
      "        Vector Observation space type: continuous\n",
      "        Vector Observation space size (per agent): 33\n",
      "        Number of stacked Vector Observation: 1\n",
      "        Vector Action space type: continuous\n",
      "        Vector Action space size (per agent): 4\n",
      "        Vector Action descriptions: , , , \n"
     ]
    }
   ],
   "source": [
    "env = UnityEnvironment(file_name='Reacher_Windows_ParallelAgents/Reacher.exe')"
   ]
  },
  {
   "cell_type": "code",
   "execution_count": 3,
   "metadata": {},
   "outputs": [],
   "source": [
    "# obtaining brain information\n",
    "brain_name = env.brain_names[0]\n",
    "brain = env.brains[brain_name]"
   ]
  },
  {
   "cell_type": "code",
   "execution_count": 4,
   "metadata": {},
   "outputs": [
    {
     "name": "stdout",
     "output_type": "stream",
     "text": [
      "Number of agents: 20\n",
      "Size of each action: 4\n",
      "There are 20 agents. Each observes a state with length: 33\n",
      "The state for the first agent looks like: [ 0.00000000e+00 -4.00000000e+00  0.00000000e+00  1.00000000e+00\n",
      " -0.00000000e+00 -0.00000000e+00 -4.37113883e-08  0.00000000e+00\n",
      "  0.00000000e+00  0.00000000e+00  0.00000000e+00  0.00000000e+00\n",
      "  0.00000000e+00  0.00000000e+00 -1.00000000e+01  0.00000000e+00\n",
      "  1.00000000e+00 -0.00000000e+00 -0.00000000e+00 -4.37113883e-08\n",
      "  0.00000000e+00  0.00000000e+00  0.00000000e+00  0.00000000e+00\n",
      "  0.00000000e+00  0.00000000e+00  5.75471878e+00 -1.00000000e+00\n",
      "  5.55726624e+00  0.00000000e+00  1.00000000e+00  0.00000000e+00\n",
      " -1.68164849e-01]\n"
     ]
    }
   ],
   "source": [
    "# reset the environment\n",
    "env_info = env.reset(train_mode=True)[brain_name]\n",
    "\n",
    "# number of agents\n",
    "num_agents = len(env_info.agents)\n",
    "print('Number of agents:', num_agents)\n",
    "\n",
    "# size of each action\n",
    "action_size = brain.vector_action_space_size\n",
    "print('Size of each action:', action_size)\n",
    "\n",
    "# examine the state space \n",
    "states = env_info.vector_observations\n",
    "state_size = states.shape[1]\n",
    "print('There are {} agents. Each observes a state with length: {}'.format(states.shape[0], state_size))\n",
    "print('The state for the first agent looks like:', states[0])"
   ]
  },
  {
   "cell_type": "markdown",
   "metadata": {},
   "source": [
    "### A2C Implementation Details\n",
    "\n",
    "The A2C network architecture used in this project handles continuous action spaces. (From Maxim Lapan's book Deep Reinforcement Learning Hands-On)\n",
    "\n",
    "#### Neural Network Architecture\n",
    "\n",
    "The A2C network architecture used in this project handles continuous action spaces.  The neural network contains of two common fully connected linear layers with three heads.  The three heads predict the average action values, the variance of the actions and the value of the state.\n",
    "\n",
    "The common body of the network contains an input layer of 128 units and a hidden layer of 128 units.  Each of these layers use the ReLu activation function.  The average action values head contains a fully connected layer of 128 units with an output layer of 4 units (corresponding to the action size).  The output layer uses a Tanh activation function to ensure the action lies between -1 and 1. The action values variance head contains a fully connected layer of 128 units with an output layer of 4 units.  The output layer uses a softplus activation function. The state value head consists of 1 fully connected layer of 128 units with an output layer with 1 unit.\n",
    "\n",
    "\n",
    "#### Agent Hyper-parameters\n",
    "\n",
    "| Hyper-parameter | Value |\n",
    "| :-------------- | ----: |\n",
    "| Discount Factor (Gamma) | 0.99 |\n",
    "| Learning Rate | 0.00005 |\n",
    "| Entropy Beta | 0.0001|"
   ]
  },
  {
   "cell_type": "code",
   "execution_count": 5,
   "metadata": {},
   "outputs": [],
   "source": [
    "# import modules\n",
    "import torch\n",
    "%load_ext autoreload\n",
    "%aimport a2c_multiagent \n",
    "from a2c_multiagent import Agent\n",
    "import matplotlib.pyplot as plt\n",
    "from collections import deque"
   ]
  },
  {
   "cell_type": "code",
   "execution_count": 6,
   "metadata": {},
   "outputs": [],
   "source": [
    "agent = Agent(state_size,action_size,random_seed=2,n_steps=6)"
   ]
  },
  {
   "cell_type": "code",
   "execution_count": 7,
   "metadata": {},
   "outputs": [],
   "source": [
    "device = torch.device(\"cuda:0\" if torch.cuda.is_available() else \"cpu\")"
   ]
  },
  {
   "cell_type": "code",
   "execution_count": 12,
   "metadata": {},
   "outputs": [],
   "source": [
    "def a2c_multiagent(agent,print_every=10):\n",
    "    env_info = env.reset(train_mode=True)[brain_name] \n",
    "    states = env_info.vector_observations\n",
    "    init_states = states\n",
    "\n",
    "    n_episodes = 1\n",
    "    n_steps = 10\n",
    "    episode_end = False\n",
    "    scores = []\n",
    "    scores_deque = deque([0], maxlen=100) # initialize with 0\n",
    "    ep_rewards = 0\n",
    "    best_score = 0.\n",
    "    while True:\n",
    "        states_t,actions_t,final_rewards,init_states,accu_rewards,episode_end = agent.play_n_steps(env,brain_name,init_states,episode_end)\n",
    "\n",
    "        agent.learn(states_t,actions_t,final_rewards)\n",
    "        ep_rewards += np.sum(accu_rewards)\n",
    "        score = ep_rewards/num_agents\n",
    "        \n",
    "        print('\\rEpisode # - {0},\\tAverage Score - {1},\\tAverage Score over 100 Episodes-{2}'.format(n_episodes,round(score,2),round(np.mean(scores_deque),2)),end=\"\")\n",
    "\n",
    "        \n",
    "        if episode_end==True:\n",
    "            if n_episodes % 10 == 0:\n",
    "                print('\\rEpisode # - {0},\\tAverage Score - {1},\\tAverage Score over 100 Episodes-{2}'.format(n_episodes, round(score,2),round(np.mean(scores_deque),2)))\n",
    "            \n",
    "            if score > best_score:\n",
    "                print('\\rScore of {0} better than previous best score of {1} - Saving weights!'.format(round(score,2),round(best_score,2)))\n",
    "                torch.save(agent.net.state_dict(),'a2c_checkpoint.pth')\n",
    "                best_score = score\n",
    "            if score>30 and np.mean(scores_deque) >= 30:\n",
    "                print('\\rReacher environment with 20 agents solved in {0} episodes!'.format(n_episodes))\n",
    "                break\n",
    "            scores.append(score)\n",
    "            scores_deque.append(score)\n",
    "            ep_rewards = 0\n",
    "            n_episodes += 1\n",
    "            episode_end=False\n",
    "\n",
    "\n",
    "    return scores"
   ]
  },
  {
   "cell_type": "code",
   "execution_count": 13,
   "metadata": {
    "scrolled": true
   },
   "outputs": [
    {
     "name": "stdout",
     "output_type": "stream",
     "text": [
      "Score of 0.82 better than previous best score of 0.0 - Saving weights!.0\n",
      "Score of 0.84 better than previous best score of 0.82 - Saving weights!41\n",
      "Score of 1.03 better than previous best score of 0.84 - Saving weights!55\n",
      "Score of 1.03 better than previous best score of 1.03 - Saving weights!74\n",
      "Score of 1.07 better than previous best score of 1.03 - Saving weights!79\n",
      "Episode # - 10,\tAverage Score - 1.25,\tAverage Score over 100 Episodes-0.87\n",
      "Score of 1.25 better than previous best score of 1.07 - Saving weights!\n",
      "Score of 1.29 better than previous best score of 1.25 - Saving weights!.96\n",
      "Episode # - 20,\tAverage Score - 1.29,\tAverage Score over 100 Episodes-0.98\n",
      "Score of 1.36 better than previous best score of 1.29 - Saving weights!.01\n",
      "Score of 1.41 better than previous best score of 1.36 - Saving weights!.02\n",
      "Score of 1.55 better than previous best score of 1.41 - Saving weights!.04\n",
      "Score of 1.55 better than previous best score of 1.55 - Saving weights!.06\n",
      "Score of 1.66 better than previous best score of 1.55 - Saving weights!.07\n",
      "Episode # - 30,\tAverage Score - 1.5,\tAverage Score over 100 Episodes-1.111\n",
      "Score of 1.97 better than previous best score of 1.66 - Saving weights!.12\n",
      "Score of 1.98 better than previous best score of 1.97 - Saving weights!.19\n",
      "Score of 2.08 better than previous best score of 1.98 - Saving weights!.23\n",
      "Episode # - 40,\tAverage Score - 2.12,\tAverage Score over 100 Episodes-1.27\n",
      "Score of 2.12 better than previous best score of 2.08 - Saving weights!\n",
      "Score of 2.23 better than previous best score of 2.12 - Saving weights!.39\n",
      "Score of 2.37 better than previous best score of 2.23 - Saving weights!.32\n",
      "Score of 2.55 better than previous best score of 2.37 - Saving weights!.38\n",
      "Score of 2.56 better than previous best score of 2.55 - Saving weights!.42\n",
      "Score of 2.84 better than previous best score of 2.56 - Saving weights!.45\n",
      "Episode # - 50,\tAverage Score - 2.97,\tAverage Score over 100 Episodes-1.48\n",
      "Score of 2.97 better than previous best score of 2.84 - Saving weights!\n",
      "Score of 3.37 better than previous best score of 2.97 - Saving weights!.55\n",
      "Score of 3.56 better than previous best score of 3.37 - Saving weights!.62\n",
      "Episode # - 60,\tAverage Score - 3.07,\tAverage Score over 100 Episodes-1.73\n",
      "Score of 3.77 better than previous best score of 3.56 - Saving weights!.85\n",
      "Score of 3.87 better than previous best score of 3.77 - Saving weights!.88\n",
      "Score of 4.41 better than previous best score of 3.87 - Saving weights!.91\n",
      "Episode # - 70,\tAverage Score - 3.93,\tAverage Score over 100 Episodes-2.01\n",
      "Score of 4.43 better than previous best score of 4.41 - Saving weights!.03\n",
      "Score of 4.9 better than previous best score of 4.43 - Saving weights!.122\n",
      "Score of 5.53 better than previous best score of 4.9 - Saving weights!2.25\n",
      "Episode # - 80,\tAverage Score - 4.66,\tAverage Score over 100 Episodes-2.33\n",
      "Score of 5.84 better than previous best score of 5.53 - Saving weights!.55\n",
      "Score of 5.9 better than previous best score of 5.84 - Saving weights!.611\n",
      "Episode # - 90,\tAverage Score - 5.34,\tAverage Score over 100 Episodes-2.65\n",
      "Score of 6.42 better than previous best score of 5.9 - Saving weights!2.68\n",
      "Score of 6.48 better than previous best score of 6.42 - Saving weights!.82\n",
      "Score of 6.52 better than previous best score of 6.48 - Saving weights!.86\n",
      "Score of 6.56 better than previous best score of 6.52 - Saving weights!.94\n",
      "Score of 6.69 better than previous best score of 6.56 - Saving weights!.97\n",
      "Episode # - 100,\tAverage Score - 6.39,\tAverage Score over 100 Episodes-3.01\n",
      "Score of 6.74 better than previous best score of 6.69 - Saving weights!3.07\n",
      "Score of 6.88 better than previous best score of 6.74 - Saving weights!3.13\n",
      "Score of 8.07 better than previous best score of 6.88 - Saving weights!3.19\n",
      "Episode # - 110,\tAverage Score - 8.02,\tAverage Score over 100 Episodes-3.64\n",
      "Score of 9.0 better than previous best score of 8.07 - Saving weights!3.844\n",
      "Episode # - 120,\tAverage Score - 9.55,\tAverage Score over 100 Episodes-4.35\n",
      "Score of 9.55 better than previous best score of 9.0 - Saving weights!\n",
      "Score of 10.66 better than previous best score of 9.55 - Saving weights!4.73\n",
      "Episode # - 130,\tAverage Score - 10.79,\tAverage Score over 100 Episodes-5.15\n",
      "Score of 10.79 better than previous best score of 10.66 - Saving weights!\n",
      "Score of 11.39 better than previous best score of 10.79 - Saving weights!.33\n",
      "Score of 11.43 better than previous best score of 11.39 - Saving weights!.42\n",
      "Score of 12.23 better than previous best score of 11.43 - Saving weights!.52\n",
      "Score of 12.38 better than previous best score of 12.23 - Saving weights!.73\n",
      "Score of 13.52 better than previous best score of 12.38 - Saving weights!.04\n",
      "Episode # - 140,\tAverage Score - 14.32,\tAverage Score over 100 Episodes-6.16\n",
      "Score of 14.32 better than previous best score of 13.52 - Saving weights!\n",
      "Score of 14.77 better than previous best score of 14.32 - Saving weights!.28\n",
      "Score of 16.02 better than previous best score of 14.77 - Saving weights!.98\n",
      "Episode # - 150,\tAverage Score - 14.38,\tAverage Score over 100 Episodes-7.49\n",
      "Score of 17.74 better than previous best score of 16.02 - Saving weights!.14\n",
      "Episode # - 160,\tAverage Score - 17.45,\tAverage Score over 100 Episodes-8.67\n",
      "Score of 19.14 better than previous best score of 17.74 - Saving weights!.45\n",
      "Episode # - 170,\tAverage Score - 17.49,\tAverage Score over 100 Episodes-9.97\n",
      "Score of 20.2 better than previous best score of 19.14 - Saving weights!0.766\n",
      "Episode # - 180,\tAverage Score - 19.42,\tAverage Score over 100 Episodes-11.32\n",
      "Score of 20.21 better than previous best score of 20.2 - Saving weights!11.72\n",
      "Score of 20.86 better than previous best score of 20.21 - Saving weights!1.88\n",
      "Episode # - 190,\tAverage Score - 15.76,\tAverage Score over 100 Episodes-12.73\n",
      "Score of 21.16 better than previous best score of 20.86 - Saving weights!3.63\n",
      "Episode # - 200,\tAverage Score - 20.53,\tAverage Score over 100 Episodes-13.97\n",
      "Episode # - 210,\tAverage Score - 19.62,\tAverage Score over 100 Episodes-15.04\n",
      "Score of 21.39 better than previous best score of 21.16 - Saving weights!5.39\n",
      "Score of 21.57 better than previous best score of 21.39 - Saving weights!5.51\n",
      "Score of 21.83 better than previous best score of 21.57 - Saving weights!5.65\n",
      "Score of 23.13 better than previous best score of 21.83 - Saving weights!5.91\n",
      "Episode # - 220,\tAverage Score - 21.9,\tAverage Score over 100 Episodes-16.322\n",
      "Episode # - 230,\tAverage Score - 18.99,\tAverage Score over 100 Episodes-17.43\n",
      "Episode # - 240,\tAverage Score - 19.43,\tAverage Score over 100 Episodes-18.32\n",
      "Score of 24.02 better than previous best score of 23.13 - Saving weights!8.45\n",
      "Episode # - 250,\tAverage Score - 24.63,\tAverage Score over 100 Episodes-18.97\n",
      "Score of 24.63 better than previous best score of 24.02 - Saving weights!\n",
      "Score of 25.37 better than previous best score of 24.63 - Saving weights!9.52\n",
      "Episode # - 260,\tAverage Score - 25.03,\tAverage Score over 100 Episodes-19.77\n",
      "Score of 25.99 better than previous best score of 25.37 - Saving weights!9.84\n",
      "Episode # - 270,\tAverage Score - 19.88,\tAverage Score over 100 Episodes-20.47\n",
      "Score of 26.79 better than previous best score of 25.99 - Saving weights!0.49\n",
      "Score of 27.47 better than previous best score of 26.79 - Saving weights!0.87\n",
      "Episode # - 280,\tAverage Score - 26.17,\tAverage Score over 100 Episodes-21.13\n",
      "Episode # - 290,\tAverage Score - 25.54,\tAverage Score over 100 Episodes-21.62\n",
      "Score of 29.67 better than previous best score of 27.47 - Saving weights!2.13\n",
      "Episode # - 300,\tAverage Score - 27.27,\tAverage Score over 100 Episodes-22.44\n",
      "Score of 30.43 better than previous best score of 29.67 - Saving weights!3.06\n",
      "Episode # - 310,\tAverage Score - 28.64,\tAverage Score over 100 Episodes-23.15\n",
      "Score of 30.58 better than previous best score of 30.43 - Saving weights!3.24\n",
      "Score of 31.45 better than previous best score of 30.58 - Saving weights!3.45\n",
      "Score of 31.95 better than previous best score of 31.45 - Saving weights!3.79\n",
      "Episode # - 320,\tAverage Score - 30.91,\tAverage Score over 100 Episodes-23.88\n",
      "Episode # - 330,\tAverage Score - 31.7,\tAverage Score over 100 Episodes-24.722\n",
      "Episode # - 340,\tAverage Score - 28.99,\tAverage Score over 100 Episodes-25.44\n",
      "Episode # - 350,\tAverage Score - 32.81,\tAverage Score over 100 Episodes-26.05\n",
      "Score of 32.81 better than previous best score of 31.95 - Saving weights!\n",
      "Episode # - 360,\tAverage Score - 25.65,\tAverage Score over 100 Episodes-26.65\n",
      "Episode # - 370,\tAverage Score - 25.16,\tAverage Score over 100 Episodes-27.11\n",
      "Episode # - 380,\tAverage Score - 24.17,\tAverage Score over 100 Episodes-27.49\n",
      "Score of 33.02 better than previous best score of 32.81 - Saving weights!7.64\n",
      "Episode # - 390,\tAverage Score - 25.5,\tAverage Score over 100 Episodes-27.888\n",
      "Episode # - 400,\tAverage Score - 33.32,\tAverage Score over 100 Episodes-28.07\n",
      "Score of 33.32 better than previous best score of 33.02 - Saving weights!\n",
      "Score of 33.42 better than previous best score of 33.32 - Saving weights!8.63\n",
      "Episode # - 410,\tAverage Score - 33.04,\tAverage Score over 100 Episodes-28.66\n",
      "Score of 35.71 better than previous best score of 33.42 - Saving weights!8.74\n",
      "Episode # - 420,\tAverage Score - 28.57,\tAverage Score over 100 Episodes-28.98\n",
      "Episode # - 430,\tAverage Score - 30.6,\tAverage Score over 100 Episodes-29.277\n",
      "Episode # - 440,\tAverage Score - 33.98,\tAverage Score over 100 Episodes-29.57\n",
      "Score of 36.59 better than previous best score of 35.71 - Saving weights!0.02\n",
      "Reacher environment with 20 agents solved in 449 episodes!\n"
     ]
    },
    {
     "data": {
      "image/png": "[encoded data removed]",
      "text/plain": [
       "<Figure size 432x288 with 1 Axes>"
      ]
     },
     "metadata": {
      "needs_background": "light"
     },
     "output_type": "display_data"
    }
   ],
   "source": [
    "scores = a2c_multiagent(agent)\n",
    "\n",
    "# plot\n",
    "fig = plt.figure()\n",
    "ax = fig.add_subplot(111)\n",
    "plt.plot(np.arange(1, len(scores)+1), scores)\n",
    "plt.ylabel('Score')\n",
    "plt.xlabel('Episode #')\n",
    "plt.show()"
   ]
  },
  {
   "cell_type": "code",
   "execution_count": null,
   "metadata": {},
   "outputs": [],
   "source": []
  },
  {
   "cell_type": "code",
   "execution_count": null,
   "metadata": {},
   "outputs": [],
   "source": []
  },
  {
   "cell_type": "code",
   "execution_count": null,
   "metadata": {},
   "outputs": [],
   "source": []
  },
  {
   "cell_type": "code",
   "execution_count": null,
   "metadata": {},
   "outputs": [],
   "source": []
  },
  {
   "cell_type": "code",
   "execution_count": null,
   "metadata": {},
   "outputs": [],
   "source": []
  },
  {
   "cell_type": "code",
   "execution_count": null,
   "metadata": {},
   "outputs": [],
   "source": []
  }
 ],
 "metadata": {
  "kernelspec": {
   "display_name": "drlnd",
   "language": "python",
   "name": "drlnd"
  },
  "language_info": {
   "codemirror_mode": {
    "name": "ipython",
    "version": 3
   },
   "file_extension": ".py",
   "mimetype": "text/x-python",
   "name": "python",
   "nbconvert_exporter": "python",
   "pygments_lexer": "ipython3",
   "version": "3.6.10"
  }
 },
 "nbformat": 4,
 "nbformat_minor": 4
}
